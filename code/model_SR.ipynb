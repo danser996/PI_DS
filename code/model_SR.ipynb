{
 "cells": [
  {
   "attachments": {},
   "cell_type": "markdown",
   "metadata": {},
   "source": [
    "# Importamos los modulos requeridos por la aplicación"
   ]
  },
  {
   "cell_type": "code",
   "execution_count": 1,
   "metadata": {},
   "outputs": [],
   "source": [
    "import pandas as pd\n",
    "import string\n",
    "import warnings\n",
    "warnings.filterwarnings('ignore')\n",
    "# importamos el modulo de sklearn\n",
    "from sklearn.feature_extraction.text import TfidfVectorizer\n",
    "from sklearn.metrics.pairwise import linear_kernel"
   ]
  },
  {
   "attachments": {},
   "cell_type": "markdown",
   "metadata": {},
   "source": [
    "# Cargamos el dataset a utilizar"
   ]
  },
  {
   "cell_type": "code",
   "execution_count": 2,
   "metadata": {},
   "outputs": [
    {
     "data": {
      "text/html": [
       "<div>\n",
       "<style scoped>\n",
       "    .dataframe tbody tr th:only-of-type {\n",
       "        vertical-align: middle;\n",
       "    }\n",
       "\n",
       "    .dataframe tbody tr th {\n",
       "        vertical-align: top;\n",
       "    }\n",
       "\n",
       "    .dataframe thead th {\n",
       "        text-align: right;\n",
       "    }\n",
       "</style>\n",
       "<table border=\"1\" class=\"dataframe\">\n",
       "  <thead>\n",
       "    <tr style=\"text-align: right;\">\n",
       "      <th></th>\n",
       "      <th>id</th>\n",
       "      <th>title</th>\n",
       "      <th>tags</th>\n",
       "    </tr>\n",
       "  </thead>\n",
       "  <tbody>\n",
       "    <tr>\n",
       "      <th>0</th>\n",
       "      <td>862</td>\n",
       "      <td>toy story</td>\n",
       "      <td>tom hanks tim allen don rickles jim varney wal...</td>\n",
       "    </tr>\n",
       "    <tr>\n",
       "      <th>1</th>\n",
       "      <td>8844</td>\n",
       "      <td>jumanji</td>\n",
       "      <td>robin williams jonathan hyde kirsten dunst bra...</td>\n",
       "    </tr>\n",
       "    <tr>\n",
       "      <th>2</th>\n",
       "      <td>15602</td>\n",
       "      <td>grumpier old men</td>\n",
       "      <td>walter matthau jack lemmon ann-margret sophia ...</td>\n",
       "    </tr>\n",
       "    <tr>\n",
       "      <th>3</th>\n",
       "      <td>31357</td>\n",
       "      <td>waiting to exhale</td>\n",
       "      <td>whitney houston angela bassett loretta devine ...</td>\n",
       "    </tr>\n",
       "    <tr>\n",
       "      <th>4</th>\n",
       "      <td>11862</td>\n",
       "      <td>father of the bride part ii</td>\n",
       "      <td>steve martin diane keaton martin short kimberl...</td>\n",
       "    </tr>\n",
       "  </tbody>\n",
       "</table>\n",
       "</div>"
      ],
      "text/plain": [
       "      id                        title  \\\n",
       "0    862                    toy story   \n",
       "1   8844                      jumanji   \n",
       "2  15602             grumpier old men   \n",
       "3  31357            waiting to exhale   \n",
       "4  11862  father of the bride part ii   \n",
       "\n",
       "                                                tags  \n",
       "0  tom hanks tim allen don rickles jim varney wal...  \n",
       "1  robin williams jonathan hyde kirsten dunst bra...  \n",
       "2  walter matthau jack lemmon ann-margret sophia ...  \n",
       "3  whitney houston angela bassett loretta devine ...  \n",
       "4  steve martin diane keaton martin short kimberl...  "
      ]
     },
     "execution_count": 2,
     "metadata": {},
     "output_type": "execute_result"
    }
   ],
   "source": [
    "data = pd.read_csv('dataset_2.csv', index_col=0)\n",
    "data.head()"
   ]
  },
  {
   "attachments": {},
   "cell_type": "markdown",
   "metadata": {},
   "source": [
    "# Hacemos el tratamiento de los datos que vamos a utilizar para la recomendacion"
   ]
  },
  {
   "cell_type": "code",
   "execution_count": 3,
   "metadata": {},
   "outputs": [
    {
     "data": {
      "text/html": [
       "<div>\n",
       "<style scoped>\n",
       "    .dataframe tbody tr th:only-of-type {\n",
       "        vertical-align: middle;\n",
       "    }\n",
       "\n",
       "    .dataframe tbody tr th {\n",
       "        vertical-align: top;\n",
       "    }\n",
       "\n",
       "    .dataframe thead th {\n",
       "        text-align: right;\n",
       "    }\n",
       "</style>\n",
       "<table border=\"1\" class=\"dataframe\">\n",
       "  <thead>\n",
       "    <tr style=\"text-align: right;\">\n",
       "      <th></th>\n",
       "      <th>title</th>\n",
       "      <th>tags</th>\n",
       "    </tr>\n",
       "  </thead>\n",
       "  <tbody>\n",
       "    <tr>\n",
       "      <th>0</th>\n",
       "      <td>toy story</td>\n",
       "      <td>tom hanks tim allen don rickles jim varney wal...</td>\n",
       "    </tr>\n",
       "    <tr>\n",
       "      <th>1</th>\n",
       "      <td>jumanji</td>\n",
       "      <td>robin williams jonathan hyde kirsten dunst bra...</td>\n",
       "    </tr>\n",
       "    <tr>\n",
       "      <th>2</th>\n",
       "      <td>grumpier old men</td>\n",
       "      <td>walter matthau jack lemmon ann margret sophia ...</td>\n",
       "    </tr>\n",
       "    <tr>\n",
       "      <th>3</th>\n",
       "      <td>waiting to exhale</td>\n",
       "      <td>whitney houston angela bassett loretta devine ...</td>\n",
       "    </tr>\n",
       "    <tr>\n",
       "      <th>4</th>\n",
       "      <td>father of the bride part ii</td>\n",
       "      <td>steve martin diane keaton martin short kimberl...</td>\n",
       "    </tr>\n",
       "    <tr>\n",
       "      <th>...</th>\n",
       "      <td>...</td>\n",
       "      <td>...</td>\n",
       "    </tr>\n",
       "    <tr>\n",
       "      <th>1996</th>\n",
       "      <td>l.a. story</td>\n",
       "      <td>steve martin sarah jessica parker victoria ten...</td>\n",
       "    </tr>\n",
       "    <tr>\n",
       "      <th>1997</th>\n",
       "      <td>the jerk</td>\n",
       "      <td>steve martin bernadette peters catlin adams ma...</td>\n",
       "    </tr>\n",
       "    <tr>\n",
       "      <th>1998</th>\n",
       "      <td>dead men don't wear plaid</td>\n",
       "      <td>steve martin rachel ward alan ladd carl reiner...</td>\n",
       "    </tr>\n",
       "    <tr>\n",
       "      <th>1999</th>\n",
       "      <td>the man with two brains</td>\n",
       "      <td>steve martin kathleen turner david warner paul...</td>\n",
       "    </tr>\n",
       "    <tr>\n",
       "      <th>2000</th>\n",
       "      <td>grand canyon</td>\n",
       "      <td>danny glover kevin kline steve martin mary mcd...</td>\n",
       "    </tr>\n",
       "  </tbody>\n",
       "</table>\n",
       "<p>2001 rows × 2 columns</p>\n",
       "</div>"
      ],
      "text/plain": [
       "                            title  \\\n",
       "0                       toy story   \n",
       "1                         jumanji   \n",
       "2                grumpier old men   \n",
       "3               waiting to exhale   \n",
       "4     father of the bride part ii   \n",
       "...                           ...   \n",
       "1996                   l.a. story   \n",
       "1997                     the jerk   \n",
       "1998    dead men don't wear plaid   \n",
       "1999      the man with two brains   \n",
       "2000                 grand canyon   \n",
       "\n",
       "                                                   tags  \n",
       "0     tom hanks tim allen don rickles jim varney wal...  \n",
       "1     robin williams jonathan hyde kirsten dunst bra...  \n",
       "2     walter matthau jack lemmon ann margret sophia ...  \n",
       "3     whitney houston angela bassett loretta devine ...  \n",
       "4     steve martin diane keaton martin short kimberl...  \n",
       "...                                                 ...  \n",
       "1996  steve martin sarah jessica parker victoria ten...  \n",
       "1997  steve martin bernadette peters catlin adams ma...  \n",
       "1998  steve martin rachel ward alan ladd carl reiner...  \n",
       "1999  steve martin kathleen turner david warner paul...  \n",
       "2000  danny glover kevin kline steve martin mary mcd...  \n",
       "\n",
       "[2001 rows x 2 columns]"
      ]
     },
     "execution_count": 3,
     "metadata": {},
     "output_type": "execute_result"
    }
   ],
   "source": [
    "df = data[['title', 'tags']]\n",
    "# df = df.sample(frac=0.1)\n",
    "df = df.iloc[0:2001]\n",
    "df.reset_index(drop=True, inplace=True)\n",
    "df['tags'] = df['tags'].str.replace('[{}]'.format(string.punctuation), ' ')\n",
    "df"
   ]
  },
  {
   "attachments": {},
   "cell_type": "markdown",
   "metadata": {},
   "source": [
    "Usamos el vectorizer de sklearn para calcular la frecuencia de las palabras que aparecen en nuestro tag y el parametro stop words para descartar todas las pablabras comunes del idioma ingles que no aportar valor a mi modelo"
   ]
  },
  {
   "cell_type": "code",
   "execution_count": null,
   "metadata": {},
   "outputs": [],
   "source": [
    "tfidf = TfidfVectorizer(stop_words='english')\n",
    "df['tags'].fillna('', inplace=True) # reemplazamos los valores nulos del dataframe por un vacio\n",
    "tfidf_matrix = tfidf.fit_transform(df['tags']) # creamos la matriz donde estaran las palabras de cada tag y su frecuencia\n",
    "tfidf.vocabulary_ # imprimimos el vocabulario encontrado y su frecuencia a lo largo del dataframe"
   ]
  },
  {
   "cell_type": "code",
   "execution_count": 5,
   "metadata": {},
   "outputs": [
    {
     "data": {
      "text/plain": [
       "(2001, 27960)"
      ]
     },
     "execution_count": 5,
     "metadata": {},
     "output_type": "execute_result"
    }
   ],
   "source": [
    "# imprimimos el tamaño de la matrix\n",
    "tfidf_matrix.shape"
   ]
  },
  {
   "attachments": {},
   "cell_type": "markdown",
   "metadata": {},
   "source": [
    "# Implementamos la similaridad coseno\n",
    "\n",
    "- calcula el nucleo lineal entre los parametros recibidos y me sirve para comparar al llamar una pelicula se compara con todas las otras peliculas y selecciona la que tiene mas relacion"
   ]
  },
  {
   "cell_type": "code",
   "execution_count": 6,
   "metadata": {},
   "outputs": [],
   "source": [
    "cosine_sim = linear_kernel(tfidf_matrix, tfidf_matrix) "
   ]
  },
  {
   "attachments": {},
   "cell_type": "markdown",
   "metadata": {},
   "source": [
    "- Creamos una serie con el id de las peliculas"
   ]
  },
  {
   "cell_type": "code",
   "execution_count": 7,
   "metadata": {},
   "outputs": [],
   "source": [
    "indices = pd.Series(df.index, index=df['title']).drop_duplicates()"
   ]
  },
  {
   "attachments": {},
   "cell_type": "markdown",
   "metadata": {},
   "source": [
    "# Creamos la funcion que hace la recomendacion"
   ]
  },
  {
   "cell_type": "code",
   "execution_count": 8,
   "metadata": {},
   "outputs": [],
   "source": [
    "def recomendacion(title, cosine_sim=cosine_sim):\n",
    "    idx = indices[title]\n",
    "    sim_scores = list(enumerate(cosine_sim[idx]))\n",
    "    sim_scores = sorted(sim_scores, key= lambda x:x[1], reverse=True)\n",
    "    sim_scores = sim_scores[1:6]\n",
    "    movies_idx = [i[0] for i in sim_scores]\n",
    "    return df['title'].iloc[movies_idx]"
   ]
  },
  {
   "cell_type": "code",
   "execution_count": 9,
   "metadata": {},
   "outputs": [
    {
     "data": {
      "text/html": [
       "<div>\n",
       "<style scoped>\n",
       "    .dataframe tbody tr th:only-of-type {\n",
       "        vertical-align: middle;\n",
       "    }\n",
       "\n",
       "    .dataframe tbody tr th {\n",
       "        vertical-align: top;\n",
       "    }\n",
       "\n",
       "    .dataframe thead th {\n",
       "        text-align: right;\n",
       "    }\n",
       "</style>\n",
       "<table border=\"1\" class=\"dataframe\">\n",
       "  <thead>\n",
       "    <tr style=\"text-align: right;\">\n",
       "      <th></th>\n",
       "      <th>title</th>\n",
       "      <th>tags</th>\n",
       "    </tr>\n",
       "  </thead>\n",
       "  <tbody>\n",
       "    <tr>\n",
       "      <th>0</th>\n",
       "      <td>toy story</td>\n",
       "      <td>tom hanks tim allen don rickles jim varney wal...</td>\n",
       "    </tr>\n",
       "    <tr>\n",
       "      <th>1</th>\n",
       "      <td>jumanji</td>\n",
       "      <td>robin williams jonathan hyde kirsten dunst bra...</td>\n",
       "    </tr>\n",
       "    <tr>\n",
       "      <th>2</th>\n",
       "      <td>grumpier old men</td>\n",
       "      <td>walter matthau jack lemmon ann margret sophia ...</td>\n",
       "    </tr>\n",
       "    <tr>\n",
       "      <th>3</th>\n",
       "      <td>waiting to exhale</td>\n",
       "      <td>whitney houston angela bassett loretta devine ...</td>\n",
       "    </tr>\n",
       "    <tr>\n",
       "      <th>4</th>\n",
       "      <td>father of the bride part ii</td>\n",
       "      <td>steve martin diane keaton martin short kimberl...</td>\n",
       "    </tr>\n",
       "  </tbody>\n",
       "</table>\n",
       "</div>"
      ],
      "text/plain": [
       "                         title  \\\n",
       "0                    toy story   \n",
       "1                      jumanji   \n",
       "2             grumpier old men   \n",
       "3            waiting to exhale   \n",
       "4  father of the bride part ii   \n",
       "\n",
       "                                                tags  \n",
       "0  tom hanks tim allen don rickles jim varney wal...  \n",
       "1  robin williams jonathan hyde kirsten dunst bra...  \n",
       "2  walter matthau jack lemmon ann margret sophia ...  \n",
       "3  whitney houston angela bassett loretta devine ...  \n",
       "4  steve martin diane keaton martin short kimberl...  "
      ]
     },
     "execution_count": 9,
     "metadata": {},
     "output_type": "execute_result"
    }
   ],
   "source": [
    "df.head()"
   ]
  },
  {
   "cell_type": "code",
   "execution_count": 10,
   "metadata": {},
   "outputs": [],
   "source": [
    "movie = df.title[120]\n",
    "rec = recomendacion(title=movie)"
   ]
  },
  {
   "attachments": {},
   "cell_type": "markdown",
   "metadata": {},
   "source": [
    "# Imprimimos la recomendacion"
   ]
  },
  {
   "cell_type": "code",
   "execution_count": 11,
   "metadata": {},
   "outputs": [
    {
     "name": "stdout",
     "output_type": "stream",
     "text": [
      "La pelicula que viste es: Boomerang\n",
      "Tu recomendacion es: \n",
      "1 - Martin Lawrence: You So Crazy\n",
      "2 - Picture Perfect\n",
      "3 - Waiting To Exhale\n",
      "4 - Harriet The Spy\n",
      "5 - She'S So Lovely\n"
     ]
    }
   ],
   "source": [
    "print('La pelicula que viste es:', movie.title())\n",
    "print('Tu recomendacion es: ')\n",
    "for i, j  in enumerate(rec):\n",
    "    print(str(i + 1) + ' ' + '-' + ' ' + j.title())"
   ]
  },
  {
   "attachments": {},
   "cell_type": "markdown",
   "metadata": {},
   "source": [
    "# Verificamos que tanta coincidencia tienen la pelicula que vimos y la que nos recomiendo en primer lugar"
   ]
  },
  {
   "cell_type": "code",
   "execution_count": 12,
   "metadata": {},
   "outputs": [
    {
     "data": {
      "text/html": [
       "<div>\n",
       "<style scoped>\n",
       "    .dataframe tbody tr th:only-of-type {\n",
       "        vertical-align: middle;\n",
       "    }\n",
       "\n",
       "    .dataframe tbody tr th {\n",
       "        vertical-align: top;\n",
       "    }\n",
       "\n",
       "    .dataframe thead th {\n",
       "        text-align: right;\n",
       "    }\n",
       "</style>\n",
       "<table border=\"1\" class=\"dataframe\">\n",
       "  <thead>\n",
       "    <tr style=\"text-align: right;\">\n",
       "      <th></th>\n",
       "      <th>title</th>\n",
       "      <th>overview</th>\n",
       "      <th>name_actor</th>\n",
       "      <th>genero</th>\n",
       "    </tr>\n",
       "  </thead>\n",
       "  <tbody>\n",
       "    <tr>\n",
       "      <th>0</th>\n",
       "      <td>toy story</td>\n",
       "      <td>Led by Woody, Andy's toys live happily in his ...</td>\n",
       "      <td>Tom Hanks</td>\n",
       "      <td>Animation</td>\n",
       "    </tr>\n",
       "    <tr>\n",
       "      <th>1</th>\n",
       "      <td>toy story</td>\n",
       "      <td>Led by Woody, Andy's toys live happily in his ...</td>\n",
       "      <td>Tim Allen</td>\n",
       "      <td>Animation</td>\n",
       "    </tr>\n",
       "    <tr>\n",
       "      <th>2</th>\n",
       "      <td>toy story</td>\n",
       "      <td>Led by Woody, Andy's toys live happily in his ...</td>\n",
       "      <td>Don Rickles</td>\n",
       "      <td>Animation</td>\n",
       "    </tr>\n",
       "    <tr>\n",
       "      <th>3</th>\n",
       "      <td>toy story</td>\n",
       "      <td>Led by Woody, Andy's toys live happily in his ...</td>\n",
       "      <td>Jim Varney</td>\n",
       "      <td>Animation</td>\n",
       "    </tr>\n",
       "    <tr>\n",
       "      <th>4</th>\n",
       "      <td>toy story</td>\n",
       "      <td>Led by Woody, Andy's toys live happily in his ...</td>\n",
       "      <td>Wallace Shawn</td>\n",
       "      <td>Animation</td>\n",
       "    </tr>\n",
       "  </tbody>\n",
       "</table>\n",
       "</div>"
      ],
      "text/plain": [
       "       title                                           overview  \\\n",
       "0  toy story  Led by Woody, Andy's toys live happily in his ...   \n",
       "1  toy story  Led by Woody, Andy's toys live happily in his ...   \n",
       "2  toy story  Led by Woody, Andy's toys live happily in his ...   \n",
       "3  toy story  Led by Woody, Andy's toys live happily in his ...   \n",
       "4  toy story  Led by Woody, Andy's toys live happily in his ...   \n",
       "\n",
       "      name_actor     genero  \n",
       "0      Tom Hanks  Animation  \n",
       "1      Tim Allen  Animation  \n",
       "2    Don Rickles  Animation  \n",
       "3     Jim Varney  Animation  \n",
       "4  Wallace Shawn  Animation  "
      ]
     },
     "execution_count": 12,
     "metadata": {},
     "output_type": "execute_result"
    }
   ],
   "source": [
    "file_csv = 'verificacion_movies.csv'\n",
    "csv = pd.read_csv(file_csv, index_col=0)\n",
    "csv.head()"
   ]
  },
  {
   "cell_type": "code",
   "execution_count": 13,
   "metadata": {},
   "outputs": [
    {
     "data": {
      "text/html": [
       "<div>\n",
       "<style scoped>\n",
       "    .dataframe tbody tr th:only-of-type {\n",
       "        vertical-align: middle;\n",
       "    }\n",
       "\n",
       "    .dataframe tbody tr th {\n",
       "        vertical-align: top;\n",
       "    }\n",
       "\n",
       "    .dataframe thead th {\n",
       "        text-align: right;\n",
       "    }\n",
       "</style>\n",
       "<table border=\"1\" class=\"dataframe\">\n",
       "  <thead>\n",
       "    <tr style=\"text-align: right;\">\n",
       "      <th></th>\n",
       "      <th>title</th>\n",
       "      <th>overview</th>\n",
       "      <th>name_actor</th>\n",
       "      <th>genero</th>\n",
       "    </tr>\n",
       "  </thead>\n",
       "  <tbody>\n",
       "    <tr>\n",
       "      <th>0</th>\n",
       "      <td>toy story</td>\n",
       "      <td>Led by Woody, Andy's toys live happily in his ...</td>\n",
       "      <td>Tom Hanks</td>\n",
       "      <td>Animation</td>\n",
       "    </tr>\n",
       "    <tr>\n",
       "      <th>1</th>\n",
       "      <td>toy story</td>\n",
       "      <td>Led by Woody, Andy's toys live happily in his ...</td>\n",
       "      <td>Tim Allen</td>\n",
       "      <td>Animation</td>\n",
       "    </tr>\n",
       "    <tr>\n",
       "      <th>2</th>\n",
       "      <td>toy story</td>\n",
       "      <td>Led by Woody, Andy's toys live happily in his ...</td>\n",
       "      <td>Don Rickles</td>\n",
       "      <td>Animation</td>\n",
       "    </tr>\n",
       "    <tr>\n",
       "      <th>3</th>\n",
       "      <td>toy story</td>\n",
       "      <td>Led by Woody, Andy's toys live happily in his ...</td>\n",
       "      <td>Jim Varney</td>\n",
       "      <td>Animation</td>\n",
       "    </tr>\n",
       "    <tr>\n",
       "      <th>4</th>\n",
       "      <td>toy story</td>\n",
       "      <td>Led by Woody, Andy's toys live happily in his ...</td>\n",
       "      <td>Wallace Shawn</td>\n",
       "      <td>Animation</td>\n",
       "    </tr>\n",
       "  </tbody>\n",
       "</table>\n",
       "</div>"
      ],
      "text/plain": [
       "       title                                           overview  \\\n",
       "0  toy story  Led by Woody, Andy's toys live happily in his ...   \n",
       "1  toy story  Led by Woody, Andy's toys live happily in his ...   \n",
       "2  toy story  Led by Woody, Andy's toys live happily in his ...   \n",
       "3  toy story  Led by Woody, Andy's toys live happily in his ...   \n",
       "4  toy story  Led by Woody, Andy's toys live happily in his ...   \n",
       "\n",
       "      name_actor     genero  \n",
       "0      Tom Hanks  Animation  \n",
       "1      Tim Allen  Animation  \n",
       "2    Don Rickles  Animation  \n",
       "3     Jim Varney  Animation  \n",
       "4  Wallace Shawn  Animation  "
      ]
     },
     "execution_count": 13,
     "metadata": {},
     "output_type": "execute_result"
    }
   ],
   "source": [
    "data_ver = csv[['title', 'overview', 'name_actor', 'genero']]\n",
    "data_ver.title = data_ver.title.str.lower()\n",
    "data_ver.head()"
   ]
  },
  {
   "attachments": {},
   "cell_type": "markdown",
   "metadata": {},
   "source": [
    "# Comparamos los actores, overviews y los generos de la pelicula vista y la primera recomendacion\n",
    "\n",
    "- Actores"
   ]
  },
  {
   "cell_type": "code",
   "execution_count": 14,
   "metadata": {},
   "outputs": [
    {
     "name": "stdout",
     "output_type": "stream",
     "text": [
      "Actores en comun comunes: ['Martin Lawrence']\n"
     ]
    }
   ],
   "source": [
    "data_ver = data_ver[(data_ver.title == movie) | (data_ver.title == rec.values[0])]\n",
    "aux_act = data_ver[['title', 'name_actor']]\n",
    "aux_act.drop_duplicates(inplace=True)\n",
    "dict_list_actors = aux_act.to_dict('records')\n",
    "\n",
    "nuevo_dicc_act = {}\n",
    "for diccionario in dict_list_actors:\n",
    "    clave = diccionario['title']\n",
    "    valor = diccionario['name_actor']\n",
    "    \n",
    "    if clave in nuevo_dicc_act:\n",
    "        nuevo_dicc_act[clave].append(valor)\n",
    "    else:\n",
    "        nuevo_dicc_act[clave] = [valor]\n",
    "\n",
    "lista1 = nuevo_dicc_act[movie]\n",
    "lista2 = nuevo_dicc_act[rec.values[0]]\n",
    "\n",
    "elementos_comunes = set(lista1) & set(lista2)\n",
    "cantidad_elementos_comunes = list(elementos_comunes)\n",
    "\n",
    "print(\"Actores en comun comunes:\", cantidad_elementos_comunes)"
   ]
  },
  {
   "attachments": {},
   "cell_type": "markdown",
   "metadata": {},
   "source": [
    "- Overviews"
   ]
  },
  {
   "cell_type": "code",
   "execution_count": 15,
   "metadata": {},
   "outputs": [
    {
     "name": "stdout",
     "output_type": "stream",
     "text": [
      "Palabras comunes en el overview de las peliculas vista y recomendada: []\n"
     ]
    }
   ],
   "source": [
    "aux_ov = data_ver[['title', 'overview']]\n",
    "aux_ov.drop_duplicates(inplace=True)\n",
    "dict_list_gen = aux_ov.to_dict('records')\n",
    "\n",
    "nuevo_dicc_ov = {}\n",
    "for diccionario in dict_list_gen:\n",
    "    clave = diccionario['title']\n",
    "    valor = diccionario['overview']\n",
    "    \n",
    "    if clave in nuevo_dicc_ov:\n",
    "        nuevo_dicc_ov[clave].append(valor)\n",
    "    else:\n",
    "        nuevo_dicc_ov[clave] = [valor]\n",
    "\n",
    "lista3 = nuevo_dicc_ov[movie]\n",
    "lista4 = nuevo_dicc_ov[rec.values[0]]\n",
    "\n",
    "elementos_comunes = set(lista3) & set(lista4)\n",
    "cantidad_elementos_comunes = list(elementos_comunes)\n",
    "\n",
    "print(\"Palabras comunes en el overview de las peliculas vista y recomendada:\", cantidad_elementos_comunes)"
   ]
  },
  {
   "attachments": {},
   "cell_type": "markdown",
   "metadata": {},
   "source": [
    "- Generos\n"
   ]
  },
  {
   "cell_type": "code",
   "execution_count": 16,
   "metadata": {},
   "outputs": [
    {
     "name": "stdout",
     "output_type": "stream",
     "text": [
      "Generos en comun comunes: ['Comedy']\n"
     ]
    }
   ],
   "source": [
    "aux_gen = data_ver[['title', 'genero']]\n",
    "aux_gen.drop_duplicates(inplace=True)\n",
    "dict_list_gen = aux_gen.to_dict('records')\n",
    "\n",
    "nuevo_dicc_gen = {}\n",
    "for diccionario in dict_list_gen:\n",
    "    clave = diccionario['title']\n",
    "    valor = diccionario['genero']\n",
    "    \n",
    "    if clave in nuevo_dicc_gen:\n",
    "        nuevo_dicc_gen[clave].append(valor)\n",
    "    else:\n",
    "        nuevo_dicc_gen[clave] = [valor]\n",
    "\n",
    "lista5 = nuevo_dicc_gen[movie]\n",
    "lista6 = nuevo_dicc_gen[rec.values[0]]\n",
    "\n",
    "elementos_comunes = set(lista5) & set(lista6)\n",
    "cantidad_elementos_comunes = list(elementos_comunes)\n",
    "\n",
    "print(\"Generos en comun comunes:\", cantidad_elementos_comunes)"
   ]
  }
 ],
 "metadata": {
  "kernelspec": {
   "display_name": "Python 3",
   "language": "python",
   "name": "python3"
  },
  "language_info": {
   "codemirror_mode": {
    "name": "ipython",
    "version": 3
   },
   "file_extension": ".py",
   "mimetype": "text/x-python",
   "name": "python",
   "nbconvert_exporter": "python",
   "pygments_lexer": "ipython3",
   "version": "3.9.6"
  },
  "orig_nbformat": 4
 },
 "nbformat": 4,
 "nbformat_minor": 2
}
